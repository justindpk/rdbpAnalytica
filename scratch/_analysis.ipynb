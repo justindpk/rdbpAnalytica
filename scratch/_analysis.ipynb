{
 "cells": [
  {
   "cell_type": "code",
   "execution_count": 2,
   "metadata": {
    "collapsed": true
   },
   "outputs": [],
   "source": [
    "import numpy as np\n",
    "import pandas as pd"
   ]
  },
  {
   "cell_type": "code",
   "execution_count": 3,
   "outputs": [],
   "source": [
    "all_ducks = pd.read_json('./allDucks.json')"
   ],
   "metadata": {
    "collapsed": false
   }
  },
  {
   "cell_type": "code",
   "execution_count": 14,
   "outputs": [
    {
     "name": "stdout",
     "output_type": "stream",
     "text": [
      "{'trait_type': 'Neck', 'value': 'Gold Necklace'}\n",
      "{'trait_type': 'Tattoo', 'value': 'Fish'}\n",
      "{'trait_type': 'Neck', 'value': 'Studded Collar'}\n",
      "{'trait_type': 'Neck', 'value': 'Heart Necklace'}\n",
      "{'trait_type': 'Beak', 'value': 'Smile'}\n"
     ]
    }
   ],
   "source": [
    "for _, i in all_ducks['attributes'][:5].items():\n",
    "    print(i[3])"
   ],
   "metadata": {
    "collapsed": false
   }
  },
  {
   "cell_type": "code",
   "execution_count": null,
   "outputs": [],
   "source": [],
   "metadata": {
    "collapsed": false
   }
  }
 ],
 "metadata": {
  "kernelspec": {
   "display_name": "Python 3",
   "language": "python",
   "name": "python3"
  },
  "language_info": {
   "codemirror_mode": {
    "name": "ipython",
    "version": 2
   },
   "file_extension": ".py",
   "mimetype": "text/x-python",
   "name": "python",
   "nbconvert_exporter": "python",
   "pygments_lexer": "ipython2",
   "version": "2.7.6"
  }
 },
 "nbformat": 4,
 "nbformat_minor": 0
}
