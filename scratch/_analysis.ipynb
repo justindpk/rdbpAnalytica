{
 "cells": [
  {
   "cell_type": "code",
   "execution_count": 1,
   "metadata": {
    "collapsed": true
   },
   "outputs": [],
   "source": [
    "import numpy as np\n",
    "import pandas as pd"
   ]
  },
  {
   "cell_type": "code",
   "execution_count": 3,
   "outputs": [
    {
     "data": {
      "text/plain": "0       [{'trait_type': 'Parties Attended', 'max_value...\n1       [{'trait_type': 'Parties Attended', 'max_value...\n2       [{'trait_type': 'Parties Attended', 'max_value...\n3       [{'trait_type': 'Parties Attended', 'max_value...\n4       [{'trait_type': 'Parties Attended', 'max_value...\n                              ...                        \n9995    [{'trait_type': 'Parties Attended', 'max_value...\n9996    [{'trait_type': 'Parties Attended', 'max_value...\n9997    [{'trait_type': 'Parties Attended', 'max_value...\n9998    [{'trait_type': 'Parties Attended', 'max_value...\n9999    [{'trait_type': 'Parties Attended', 'max_value...\nName: attributes, Length: 10000, dtype: object"
     },
     "execution_count": 3,
     "metadata": {},
     "output_type": "execute_result"
    }
   ],
   "source": [
    "pd.read_json('./allDucks.json').attributes"
   ],
   "metadata": {
    "collapsed": false
   }
  },
  {
   "cell_type": "code",
   "execution_count": null,
   "outputs": [],
   "source": [],
   "metadata": {
    "collapsed": false
   }
  }
 ],
 "metadata": {
  "kernelspec": {
   "display_name": "Python 3",
   "language": "python",
   "name": "python3"
  },
  "language_info": {
   "codemirror_mode": {
    "name": "ipython",
    "version": 2
   },
   "file_extension": ".py",
   "mimetype": "text/x-python",
   "name": "python",
   "nbconvert_exporter": "python",
   "pygments_lexer": "ipython2",
   "version": "2.7.6"
  }
 },
 "nbformat": 4,
 "nbformat_minor": 0
}
