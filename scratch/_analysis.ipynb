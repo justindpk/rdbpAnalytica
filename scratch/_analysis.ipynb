{
 "cells": [
  {
   "cell_type": "code",
   "execution_count": 1,
   "metadata": {
    "collapsed": true
   },
   "outputs": [],
   "source": [
    "import numpy as np\n",
    "import pandas as pd"
   ]
  },
  {
   "cell_type": "code",
   "execution_count": 4,
   "outputs": [
    {
     "data": {
      "text/plain": "      duck                                            history   rarityScore  \\\n0     3078  [{'version': 2, 'image': 'https://duck.mypinat...  20330.320516   \n1     2794  [{'version': 4, 'image': 'https://duck.mypinat...  20245.766281   \n2     8473  [{'version': 9, 'image': 'https://duck.mypinat...  20164.166021   \n3     7418  [{'version': 8, 'image': 'https://duck.mypinat...  20164.152284   \n4     2045  [{'version': 1, 'image': 'https://duck.mypinat...  20095.823731   \n...    ...                                                ...           ...   \n9995  8051  [{'version': 6, 'image': 'https://duck.mypinat...    116.221946   \n9996  4992  [{'version': 4, 'image': 'https://duck.mypinat...    115.313498   \n9997  1626  [{'version': 1, 'image': 'https://duck.mypinat...    115.009966   \n9998  2055  [{'version': 5, 'image': 'https://duck.mypinat...    114.531085   \n9999  8285  [{'version': 1, 'image': 'https://duck.mypinat...    112.690795   \n\n                                             attributes  \n0     [{'trait_type': 'Parties Attended', 'max_value...  \n1     [{'trait_type': 'Parties Attended', 'max_value...  \n2     [{'trait_type': 'Parties Attended', 'max_value...  \n3     [{'trait_type': 'Parties Attended', 'max_value...  \n4     [{'trait_type': 'Parties Attended', 'max_value...  \n...                                                 ...  \n9995  [{'trait_type': 'Parties Attended', 'max_value...  \n9996  [{'trait_type': 'Parties Attended', 'max_value...  \n9997  [{'trait_type': 'Parties Attended', 'max_value...  \n9998  [{'trait_type': 'Parties Attended', 'max_value...  \n9999  [{'trait_type': 'Parties Attended', 'max_value...  \n\n[10000 rows x 4 columns]",
      "text/html": "<div>\n<style scoped>\n    .dataframe tbody tr th:only-of-type {\n        vertical-align: middle;\n    }\n\n    .dataframe tbody tr th {\n        vertical-align: top;\n    }\n\n    .dataframe thead th {\n        text-align: right;\n    }\n</style>\n<table border=\"1\" class=\"dataframe\">\n  <thead>\n    <tr style=\"text-align: right;\">\n      <th></th>\n      <th>duck</th>\n      <th>history</th>\n      <th>rarityScore</th>\n      <th>attributes</th>\n    </tr>\n  </thead>\n  <tbody>\n    <tr>\n      <th>0</th>\n      <td>3078</td>\n      <td>[{'version': 2, 'image': 'https://duck.mypinat...</td>\n      <td>20330.320516</td>\n      <td>[{'trait_type': 'Parties Attended', 'max_value...</td>\n    </tr>\n    <tr>\n      <th>1</th>\n      <td>2794</td>\n      <td>[{'version': 4, 'image': 'https://duck.mypinat...</td>\n      <td>20245.766281</td>\n      <td>[{'trait_type': 'Parties Attended', 'max_value...</td>\n    </tr>\n    <tr>\n      <th>2</th>\n      <td>8473</td>\n      <td>[{'version': 9, 'image': 'https://duck.mypinat...</td>\n      <td>20164.166021</td>\n      <td>[{'trait_type': 'Parties Attended', 'max_value...</td>\n    </tr>\n    <tr>\n      <th>3</th>\n      <td>7418</td>\n      <td>[{'version': 8, 'image': 'https://duck.mypinat...</td>\n      <td>20164.152284</td>\n      <td>[{'trait_type': 'Parties Attended', 'max_value...</td>\n    </tr>\n    <tr>\n      <th>4</th>\n      <td>2045</td>\n      <td>[{'version': 1, 'image': 'https://duck.mypinat...</td>\n      <td>20095.823731</td>\n      <td>[{'trait_type': 'Parties Attended', 'max_value...</td>\n    </tr>\n    <tr>\n      <th>...</th>\n      <td>...</td>\n      <td>...</td>\n      <td>...</td>\n      <td>...</td>\n    </tr>\n    <tr>\n      <th>9995</th>\n      <td>8051</td>\n      <td>[{'version': 6, 'image': 'https://duck.mypinat...</td>\n      <td>116.221946</td>\n      <td>[{'trait_type': 'Parties Attended', 'max_value...</td>\n    </tr>\n    <tr>\n      <th>9996</th>\n      <td>4992</td>\n      <td>[{'version': 4, 'image': 'https://duck.mypinat...</td>\n      <td>115.313498</td>\n      <td>[{'trait_type': 'Parties Attended', 'max_value...</td>\n    </tr>\n    <tr>\n      <th>9997</th>\n      <td>1626</td>\n      <td>[{'version': 1, 'image': 'https://duck.mypinat...</td>\n      <td>115.009966</td>\n      <td>[{'trait_type': 'Parties Attended', 'max_value...</td>\n    </tr>\n    <tr>\n      <th>9998</th>\n      <td>2055</td>\n      <td>[{'version': 5, 'image': 'https://duck.mypinat...</td>\n      <td>114.531085</td>\n      <td>[{'trait_type': 'Parties Attended', 'max_value...</td>\n    </tr>\n    <tr>\n      <th>9999</th>\n      <td>8285</td>\n      <td>[{'version': 1, 'image': 'https://duck.mypinat...</td>\n      <td>112.690795</td>\n      <td>[{'trait_type': 'Parties Attended', 'max_value...</td>\n    </tr>\n  </tbody>\n</table>\n<p>10000 rows × 4 columns</p>\n</div>"
     },
     "execution_count": 4,
     "metadata": {},
     "output_type": "execute_result"
    }
   ],
   "source": [
    "pd.read_json('./allDucks.json')"
   ],
   "metadata": {
    "collapsed": false
   }
  },
  {
   "cell_type": "code",
   "execution_count": null,
   "outputs": [],
   "source": [],
   "metadata": {
    "collapsed": false
   }
  }
 ],
 "metadata": {
  "kernelspec": {
   "display_name": "Python 3",
   "language": "python",
   "name": "python3"
  },
  "language_info": {
   "codemirror_mode": {
    "name": "ipython",
    "version": 2
   },
   "file_extension": ".py",
   "mimetype": "text/x-python",
   "name": "python",
   "nbconvert_exporter": "python",
   "pygments_lexer": "ipython2",
   "version": "2.7.6"
  }
 },
 "nbformat": 4,
 "nbformat_minor": 0
}
